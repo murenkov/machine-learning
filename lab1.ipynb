{
 "cells": [
  {
   "cell_type": "markdown",
   "id": "31a12331-f37b-4e7e-9850-6e7e1c7d4cec",
   "metadata": {},
   "source": [
    "# Лабораторная работа №1\n",
    "\n",
    "Настройка среды для проведения анализа метода ближайшего соседа."
   ]
  },
  {
   "cell_type": "code",
   "execution_count": null,
   "id": "801188b3-4725-4009-8237-544ff3c55eb0",
   "metadata": {},
   "outputs": [],
   "source": [
    "import numpy as np\n",
    "import matplotlib as mpl\n",
    "import matplotlib.pyplot as plt\n",
    "\n",
    "mpl.rcParams['axes.grid'] = True"
   ]
  },
  {
   "cell_type": "markdown",
   "id": "feecbe6a-c9e8-4719-99db-19b153ba9ca3",
   "metadata": {},
   "source": [
    "## Задание №1\n",
    "\n",
    "Создать обучающий набор данных $T$ из $N$ (номер варианта, умноженный на 100) векторов $(x_i, t_i)$, где $x$ $-$ случайно выбранная из отрезка $[0;1]$ величина,\n",
    "$t = \\sin(2\\pi x) + \\varepsilon$, а $\\varepsilon$ $-$ гауссова величина с нулевым средним и СКО = 0.3."
   ]
  },
  {
   "cell_type": "code",
   "execution_count": null,
   "id": "74c38280-8884-461d-b634-9cf7e486f226",
   "metadata": {},
   "outputs": [],
   "source": [
    "rng = np.random.default_rng(seed=42)\n",
    "\n",
    "x = rng.uniform(size=???)\n",
    "t = np.sin(2*np.pi*x) + rng.normal(scale=???, size=len(x))\n",
    "\n",
    "plt.scatter(x, t)"
   ]
  },
  {
   "cell_type": "markdown",
   "id": "e1b5cb28-299f-418e-806b-5f857509a436",
   "metadata": {},
   "source": [
    "## Задание №2\n",
    "\n",
    "Создать аналогичным образом тестовый набор данных $T'$ из других $N/4$ тестовых векторов $(x_i, t_i)$.\n",
    "Деление нацело в питоне - это операция `a // b`."
   ]
  },
  {
   "cell_type": "code",
   "execution_count": null,
   "id": "47b30a4b-fb13-4f70-ba5e-149a3cd3de5d",
   "metadata": {},
   "outputs": [],
   "source": [
    "xx = ???\n",
    "tt = ???\n",
    "\n",
    "plt.scatter(xx, tt)"
   ]
  },
  {
   "cell_type": "markdown",
   "id": "a3f0451b-a71b-4ecd-80e1-4ef77c3de911",
   "metadata": {
    "tags": []
   },
   "source": [
    "## Задание №3\n",
    "\n",
    "Методом $k$-NN с различными $k$ (обязательно рассмотреть $k = 1$ и $k = N$) определить среднюю ошибку\n",
    "$E(f, T) = \\frac{1}{N} \\sum_{i=1}^{N} E\\left( f(x_i), t_i \\right)$\n",
    "(штрафная функция $-$ квадрат разности истинного и предсказанного значений $E(r, y) = {\\lVert r - y \\rVert}^2$)  для обучающего и для тестового наборов.\n",
    "Построить зависимости средних ошибок от $k$ в виде 2 графиков для $E(T)$ и $E(T')$."
   ]
  },
  {
   "cell_type": "code",
   "execution_count": null,
   "id": "7c4e13ad-d36e-45b5-8701-b31de454629f",
   "metadata": {},
   "outputs": [],
   "source": [
    "%%time\n",
    "\n",
    "def err(f, t):\n",
    "    return ??? np.mean, x**2\n",
    "\n",
    "class KMean:\n",
    "    def __init__(self, k, x, t):\n",
    "        self.k, self.x, self.t = k, x, t\n",
    "\n",
    "    def _decision(self, m):\n",
    "        ??? argpartion, np.arange\n",
    "\n",
    "    def __call__(self, xx):\n",
    "        return np.array([self._decision(m) for m in xx])\n",
    "\n",
    "k = np.arange(1, len(x) + 1)\n",
    "y, yy = [], []\n",
    "for kk in k:\n",
    "    kmean = KMean(kk, x, t)\n",
    "    y.append(err(kmean(xx), tt))\n",
    "    yy.append(err(kmean(x), t))\n",
    "\n",
    "plt.plot(k, y, label='тестовая')\n",
    "plt.plot(k, yy, label='обучающая')\n",
    "plt.xlabel('k')\n",
    "plt.ylabel('Значение функции штрафа')\n",
    "plt.title('Ошибка предсказания')\n",
    "plt.legend()\n",
    "\n",
    "kidx = np.argmin(y)\n",
    "print(\"Min =\", y[kidx], \"index =\", kidx)"
   ]
  },
  {
   "cell_type": "markdown",
   "id": "d31783b3-8bf4-4373-893d-e89349bf4f2d",
   "metadata": {
    "tags": []
   },
   "source": [
    "## Задание №4\n",
    "\n",
    "По графикам, полученным в п.3, сделайте выводы о характере зависимости эмпирического риска $E(f, T)$ от $k$.\n",
    "Определите значение $k$, для которого значение ошибки $E(f, T)$ получается наименьшим.\n",
    "Сравните значения ошибок, получаемых на обучающем и тестовом наборах данных."
   ]
  },
  {
   "cell_type": "markdown",
   "id": "42efd44e-b471-44fe-a910-2de9dac605ff",
   "metadata": {},
   "source": [
    "### Выводы\n",
    "\n",
    "Наименьшее $k$, для которого наблюдается минимальное значение ошибки, составило ..."
   ]
  }
 ],
 "metadata": {
  "kernelspec": {
   "display_name": "Python 3 (ipykernel)",
   "language": "python",
   "name": "python3"
  },
  "language_info": {
   "codemirror_mode": {
    "name": "ipython",
    "version": 3
   },
   "file_extension": ".py",
   "mimetype": "text/x-python",
   "name": "python",
   "nbconvert_exporter": "python",
   "pygments_lexer": "ipython3",
   "version": "3.11.5"
  }
 },
 "nbformat": 4,
 "nbformat_minor": 5
}
