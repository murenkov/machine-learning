{
 "cells": [
  {
   "cell_type": "markdown",
   "id": "74c184e2-f7b2-4c6d-b78a-77a91b646aad",
   "metadata": {},
   "source": [
    "# Лабораторная работа №5. Сверточные нейронные сети\n",
    "\n",
    "В данной лабораторной работе рассматривается решение задачи классификации посредством свёрточных нейронных сетей.\n",
    "Для построения сетей предлагается использовать [Keras](https://keras.io) на базе [TensorFlow](https://www.tensorflow.org)."
   ]
  },
  {
   "cell_type": "markdown",
   "id": "8262d687-f6e5-4319-849d-48566ed09db9",
   "metadata": {},
   "source": [
    "### import numpy as np\n",
    "import matplotlib as mpl\n",
    "import matplotlib.pyplot as plt\n",
    "import tensorflow as tf\n",
    "import tensorflow.keras\n",
    "import sklearn as sk\n",
    "import sklearn.datasets\n",
    "import sklearn.model_selection\n",
    "\n",
    "mpl.rcParams['axes.grid'] = True\n",
    "\n",
    "print(f\"tensorflow = {tf.__version__}, keras = {tf.keras.__version__}\")\n",
    "if tuple(map(int, tf.__version__.split('.'))) < (2, 5, 0):\n",
    "    tf.autograph.set_verbosity(0)\n",
    "    import logging\n",
    "    logging.getLogger(\"tensorflow\").setLevel(logging.ERROR)"
   ]
  },
  {
   "cell_type": "markdown",
   "id": "aa4cf21e-47fb-4f26-a894-ecb7c76ee3d3",
   "metadata": {},
   "source": [
    "## Задание №1\n",
    "\n",
    "Загрузите датасет MNIST с помощью вызова `tf.keras.datasets.mnist.load_data()`.\n",
    "Промасштабируйте обучающую и тестовую выборки, чтобы входные значения лежали в отрезке $[0; 1]$."
   ]
  },
  {
   "cell_type": "code",
   "execution_count": 2,
   "id": "56bda162-f9b2-428c-a53d-21a8085de7b6",
   "metadata": {},
   "outputs": [
    {
     "name": "stdout",
     "output_type": "stream",
     "text": [
      "float32 (60000, 28, 28, 1) (60000, 1)\n"
     ]
    }
   ],
   "source": [
    "(x_train, y_train), (x_test, y_test) = tf.keras.datasets.mnist.load_data()\n",
    "\n",
    "x_train = np.float32(x_train / x_train.max()).reshape(x_train.shape[0], x_train.shape[1], x_train.shape[2], 1)\n",
    "y_train = y_train.reshape(y_train.shape[0], 1)\n",
    "\n",
    "x_test = np.float32(x_test / x_test.max()).reshape(x_test.shape[0], x_test.shape[1], x_test.shape[2], 1)\n",
    "y_test = y_test.reshape(y_test.shape[0], 1)\n",
    "\n",
    "print(x_train.dtype, x_train.shape, y_train.shape)\n",
    "assert x_train.dtype == np.float32 and x_test.dtype == np.float32, 'Неправильный тип входных данных'\n",
    "assert x_train.shape[1:] == (28, 28, 1) and x_test.shape[1:] == (28, 28, 1), 'Неправильная размерность входных данных'\n",
    "assert (x_train <= 1).all() and (x_test <= 1).all(), 'Неправильный диапазон входных данных'"
   ]
  },
  {
   "cell_type": "markdown",
   "id": "9b32b36c-968a-4e19-8bf7-d92d554ead1b",
   "metadata": {},
   "source": [
    "Изучите приведённую ниже сеть с архитектурой:\n",
    "\n",
    "1. Свёточный слой с 16 фильтрами размера $3\\times3$ и функцией активации relu\n",
    "1. Слой MaxPooling с размером шага 2\n",
    "1. Свёточный слой с 32 фильтрами размера $3\\times3$ и функцией активации relu\n",
    "1. Слой MaxPooling с размером шага 2\n",
    "1. Свёточный слой с 64 фильтрами размера $3\\times3$ и функцией активации relu\n",
    "1. Слой линеаризации\n",
    "1. Полносвязный слой с количеством нейронов равным количеству выходных классов с функцией активации softmax\n",
    "\n",
    "В качестве градиетного спуска выступает SGD, размер батча определяется при обучении модели.\n",
    "Для вычисления функции потерь используется кросс-энтропия по категориям с автоматическим OneHot кодированием.\n",
    "Метрика точности соответствует $accuracy(\\tilde{y}, y) = \\frac{1}{N} \\sum_{n=0}^{N-1} 1(\\tilde{y}_n = y_n)$.\n",
    "При этом точное название метрики `sparse_categorical_accuracy`, которое можно сократить до `accuracy`, так как метрика выбирается согласно функции потерь.\n",
    "\n",
    "Запустите нейросеть.\n",
    "Итоговая точность должна получится около 92% или больше."
   ]
  },
  {
   "cell_type": "code",
   "execution_count": 3,
   "id": "8d8c1a02-71bd-467c-a397-b55e79426b29",
   "metadata": {},
   "outputs": [
    {
     "name": "stderr",
     "output_type": "stream",
     "text": [
      "2023-12-17 15:17:42.085961: E tensorflow/compiler/xla/stream_executor/cuda/cuda_driver.cc:266] failed call to cuInit: CUDA_ERROR_NO_DEVICE: no CUDA-capable device is detected\n"
     ]
    },
    {
     "name": "stdout",
     "output_type": "stream",
     "text": [
      "Model: \"model\"\n",
      "_________________________________________________________________\n",
      " Layer (type)                Output Shape              Param #   \n",
      "=================================================================\n",
      " input_1 (InputLayer)        [(None, 28, 28, 1)]       0         \n",
      "                                                                 \n",
      " conv2d (Conv2D)             (None, 28, 28, 16)        160       \n",
      "                                                                 \n",
      " max_pooling2d (MaxPooling2D  (None, 14, 14, 16)       0         \n",
      " )                                                               \n",
      "                                                                 \n",
      " conv2d_1 (Conv2D)           (None, 14, 14, 32)        4640      \n",
      "                                                                 \n",
      " max_pooling2d_1 (MaxPooling  (None, 7, 7, 32)         0         \n",
      " 2D)                                                             \n",
      "                                                                 \n",
      " conv2d_2 (Conv2D)           (None, 7, 7, 64)          18496     \n",
      "                                                                 \n",
      " flatten (Flatten)           (None, 3136)              0         \n",
      "                                                                 \n",
      " dense (Dense)               (None, 10)                31370     \n",
      "                                                                 \n",
      "=================================================================\n",
      "Total params: 54,666\n",
      "Trainable params: 54,666\n",
      "Non-trainable params: 0\n",
      "_________________________________________________________________\n",
      "Epoch 1/3\n",
      "469/469 [==============================] - 94s 194ms/step - loss: 1.6036 - accuracy: 0.5298 - val_loss: 0.5024 - val_accuracy: 0.8385\n",
      "Epoch 2/3\n",
      "469/469 [==============================] - 85s 182ms/step - loss: 0.3730 - accuracy: 0.8860 - val_loss: 0.2912 - val_accuracy: 0.9148\n",
      "Epoch 3/3\n",
      "469/469 [==============================] - 94s 201ms/step - loss: 0.2591 - accuracy: 0.9228 - val_loss: 0.2091 - val_accuracy: 0.9373\n",
      "{'loss': 0.209138885140419, 'accuracy': 0.9373000264167786}\n"
     ]
    },
    {
     "name": "stderr",
     "output_type": "stream",
     "text": [
      "2023-12-17 15:22:23.303364: W tensorflow/tsl/framework/cpu_allocator_impl.cc:83] Allocation of 501760000 exceeds 10% of free system memory.\n",
      "2023-12-17 15:22:25.171297: W tensorflow/tsl/framework/cpu_allocator_impl.cc:83] Allocation of 501760000 exceeds 10% of free system memory.\n",
      "2023-12-17 15:22:25.803121: W tensorflow/tsl/framework/cpu_allocator_impl.cc:83] Allocation of 501760000 exceeds 10% of free system memory.\n",
      "2023-12-17 15:22:26.694794: W tensorflow/tsl/framework/cpu_allocator_impl.cc:83] Allocation of 250880000 exceeds 10% of free system memory.\n",
      "2023-12-17 15:22:28.514672: W tensorflow/tsl/framework/cpu_allocator_impl.cc:83] Allocation of 250880000 exceeds 10% of free system memory.\n"
     ]
    },
    {
     "name": "stdout",
     "output_type": "stream",
     "text": [
      "y_test [[7]\n",
      " [2]] y_pred tf.Tensor(\n",
      "[[8.8381415e-07 1.6764776e-08 4.5555835e-06 1.1448789e-04 3.4833681e-07\n",
      "  1.7286922e-06 7.1072931e-10 9.9946058e-01 4.5879625e-07 4.1689508e-04]\n",
      " [2.1938040e-04 1.3004137e-03 9.9176025e-01 1.1986243e-03 5.5493995e-08\n",
      "  1.9176103e-03 3.2238744e-03 6.3032496e-10 3.7973918e-04 4.8179594e-10]], shape=(2, 10), dtype=float32)\n",
      "CPU times: user 20min 44s, sys: 34.5 s, total: 21min 18s\n",
      "Wall time: 5min 31s\n"
     ]
    }
   ],
   "source": [
    "%%time\n",
    "\n",
    "def create_model1(input_x, input_y):\n",
    "    inputs = tf.keras.layers.Input(shape=input_x.shape[1:])\n",
    "    x = tf.keras.layers.Conv2D(filters=16, kernel_size=3, padding='same', activation='relu')(inputs)\n",
    "    x = tf.keras.layers.MaxPooling2D(pool_size=2, padding='valid')(x)\n",
    "    x = tf.keras.layers.Conv2D(filters=32, kernel_size=3, padding='same', activation='relu')(x)\n",
    "    x = tf.keras.layers.MaxPooling2D(pool_size=2, padding='valid')(x)\n",
    "    x = tf.keras.layers.Conv2D(filters=64, kernel_size=3, padding='same', activation='relu')(x)\n",
    "    x = tf.keras.layers.Flatten()(x)\n",
    "    outputs = tf.keras.layers.Dense(len(np.unique(input_y)), activation='softmax')(x)\n",
    "    \n",
    "    model = tf.keras.Model(inputs, outputs)\n",
    "    model.compile(optimizer='sgd', loss='sparse_categorical_crossentropy', metrics=['accuracy'])\n",
    "    model.summary()\n",
    "    return model\n",
    "\n",
    "model = create_model1(x_train, y_train)\n",
    "model.fit(x_train, y_train, batch_size=128, epochs=3, validation_data=(x_test, y_test), verbose=True)\n",
    "score = model.evaluate(x_test, y_test, verbose=0)\n",
    "print(dict(zip(model.metrics_names, score)))\n",
    "\n",
    "y_pred = model(x_test)\n",
    "print('y_test', y_test[:2], 'y_pred', y_pred[:2])"
   ]
  },
  {
   "cell_type": "markdown",
   "id": "02485339-588f-4332-a3fb-2b10af5cf8f0",
   "metadata": {},
   "source": [
    "**Вопросы**:\n",
    "\n",
    "1. Сколько всего параметров у нейронной сети?\n",
    "1. Сколько всего участвует в обучении векторов из обучающей выборки?\n",
    "1. Какая точность достигнута?\n",
    "1. В обучающей выборке в качестве классов используются числа от 0 до 9.\n",
    "Что получается на выходе у нейронной сети?\n",
    "Как выходные значения нейронной сети преобразовать в номер класса?"
   ]
  },
  {
   "cell_type": "markdown",
   "id": "a15f01e6-4351-4a96-afdd-f1c01e64cfcf",
   "metadata": {},
   "source": [
    "**Ответы**:\n",
    "\n",
    "1. Общее число параметров нейронной сети равно 54'666.\n",
    "1. В обучении нейронной сети участвуют 60'000 векторов обучающей выборки.\n",
    "1. Достигнутая точность составляет 0.94.\n",
    "1. На выходе нейронной появляется 10-мерный вектор уверенностей того, что значение на входе относится к тому или иному классу. Конечный выбор делается по максимальной уверенности."
   ]
  },
  {
   "cell_type": "markdown",
   "id": "17232f8c-606f-4eec-b172-8b365f41197f",
   "metadata": {},
   "source": [
    "## Задание №2\n",
    "\n",
    "Попробуйте увеличить точность классификации, например, добавив после каждого свёрточного слоя нормализацию (BatchNormalization) или изменив архитектуру сети.\n",
    "Объясните целесообразность произведенных изменений."
   ]
  },
  {
   "cell_type": "code",
   "execution_count": 4,
   "id": "f2c9a05c-8c06-4c2e-bf10-94bacc86179d",
   "metadata": {},
   "outputs": [
    {
     "name": "stdout",
     "output_type": "stream",
     "text": [
      "Model: \"model_1\"\n",
      "_________________________________________________________________\n",
      " Layer (type)                Output Shape              Param #   \n",
      "=================================================================\n",
      " input_2 (InputLayer)        [(None, 28, 28, 1)]       0         \n",
      "                                                                 \n",
      " conv2d_3 (Conv2D)           (None, 28, 28, 16)        160       \n",
      "                                                                 \n",
      " max_pooling2d_2 (MaxPooling  (None, 14, 14, 16)       0         \n",
      " 2D)                                                             \n",
      "                                                                 \n",
      " batch_normalization (BatchN  (None, 14, 14, 16)       64        \n",
      " ormalization)                                                   \n",
      "                                                                 \n",
      " conv2d_4 (Conv2D)           (None, 14, 14, 32)        4640      \n",
      "                                                                 \n",
      " max_pooling2d_3 (MaxPooling  (None, 7, 7, 32)         0         \n",
      " 2D)                                                             \n",
      "                                                                 \n",
      " batch_normalization_1 (Batc  (None, 7, 7, 32)         128       \n",
      " hNormalization)                                                 \n",
      "                                                                 \n",
      " conv2d_5 (Conv2D)           (None, 7, 7, 64)          18496     \n",
      "                                                                 \n",
      " flatten_1 (Flatten)         (None, 3136)              0         \n",
      "                                                                 \n",
      " batch_normalization_2 (Batc  (None, 3136)             12544     \n",
      " hNormalization)                                                 \n",
      "                                                                 \n",
      " dense_1 (Dense)             (None, 10)                31370     \n",
      "                                                                 \n",
      "=================================================================\n",
      "Total params: 67,402\n",
      "Trainable params: 61,034\n",
      "Non-trainable params: 6,368\n",
      "_________________________________________________________________\n",
      "Epoch 1/3\n",
      "469/469 [==============================] - 99s 203ms/step - loss: 0.1950 - accuracy: 0.9433 - val_loss: 0.2256 - val_accuracy: 0.9453\n",
      "Epoch 2/3\n",
      "469/469 [==============================] - 94s 201ms/step - loss: 0.0761 - accuracy: 0.9785 - val_loss: 0.0611 - val_accuracy: 0.9822\n",
      "Epoch 3/3\n",
      "469/469 [==============================] - 99s 212ms/step - loss: 0.0572 - accuracy: 0.9839 - val_loss: 0.0505 - val_accuracy: 0.9847\n",
      "{'loss': 0.05050142481923103, 'accuracy': 0.9847000241279602}\n",
      "CPU times: user 22min 13s, sys: 35.9 s, total: 22min 49s\n",
      "Wall time: 5min\n"
     ]
    }
   ],
   "source": [
    "%%time\n",
    "\n",
    "def create_model2(input_x, input_y):\n",
    "    inputs = tf.keras.layers.Input(shape=input_x.shape[1:])\n",
    "    x = tf.keras.layers.Conv2D(filters=16, kernel_size=3, padding='same', activation='relu')(inputs)\n",
    "    x = tf.keras.layers.MaxPooling2D(pool_size=2, padding='valid')(x)\n",
    "    x = tf.keras.layers.BatchNormalization()(x)\n",
    "    x = tf.keras.layers.Conv2D(filters=32, kernel_size=3, padding='same', activation='relu')(x)\n",
    "    x = tf.keras.layers.MaxPooling2D(pool_size=2, padding='valid')(x)\n",
    "    x = tf.keras.layers.BatchNormalization()(x)\n",
    "    x = tf.keras.layers.Conv2D(filters=64, kernel_size=3, padding='same', activation='relu')(x)\n",
    "    x = tf.keras.layers.Flatten()(x)\n",
    "    x = tf.keras.layers.BatchNormalization()(x)\n",
    "    outputs = tf.keras.layers.Dense(len(np.unique(input_y)), activation='softmax')(x)\n",
    "    \n",
    "    model = tf.keras.Model(inputs, outputs)\n",
    "    model.compile(optimizer='sgd', loss='sparse_categorical_crossentropy', metrics=['accuracy'])\n",
    "    model.summary()\n",
    "    return model\n",
    "\n",
    "model = create_model2(x_train, y_train)\n",
    "model.fit(x_train, y_train, batch_size=128, epochs=3, validation_data=(x_test, y_test), verbose=True)\n",
    "score = model.evaluate(x_test, y_test, verbose=0)\n",
    "print(dict(zip(model.metrics_names, score)))"
   ]
  },
  {
   "cell_type": "code",
   "execution_count": 5,
   "id": "a98fd8a0-f9d0-43b8-85f2-d79ed95c3e3c",
   "metadata": {},
   "outputs": [
    {
     "name": "stdout",
     "output_type": "stream",
     "text": [
      "Model: \"model_2\"\n",
      "_________________________________________________________________\n",
      " Layer (type)                Output Shape              Param #   \n",
      "=================================================================\n",
      " input_3 (InputLayer)        [(None, 28, 28, 1)]       0         \n",
      "                                                                 \n",
      " conv2d_6 (Conv2D)           (None, 28, 28, 16)        160       \n",
      "                                                                 \n",
      " batch_normalization_3 (Batc  (None, 28, 28, 16)       64        \n",
      " hNormalization)                                                 \n",
      "                                                                 \n",
      " max_pooling2d_4 (MaxPooling  (None, 14, 14, 16)       0         \n",
      " 2D)                                                             \n",
      "                                                                 \n",
      " conv2d_7 (Conv2D)           (None, 14, 14, 32)        4640      \n",
      "                                                                 \n",
      " batch_normalization_4 (Batc  (None, 14, 14, 32)       128       \n",
      " hNormalization)                                                 \n",
      "                                                                 \n",
      " max_pooling2d_5 (MaxPooling  (None, 7, 7, 32)         0         \n",
      " 2D)                                                             \n",
      "                                                                 \n",
      " conv2d_8 (Conv2D)           (None, 7, 7, 64)          18496     \n",
      "                                                                 \n",
      " flatten_2 (Flatten)         (None, 3136)              0         \n",
      "                                                                 \n",
      " batch_normalization_5 (Batc  (None, 3136)             12544     \n",
      " hNormalization)                                                 \n",
      "                                                                 \n",
      " dense_2 (Dense)             (None, 10)                31370     \n",
      "                                                                 \n",
      "=================================================================\n",
      "Total params: 67,402\n",
      "Trainable params: 61,034\n",
      "Non-trainable params: 6,368\n",
      "_________________________________________________________________\n",
      "Epoch 1/3\n",
      "469/469 [==============================] - 104s 214ms/step - loss: 0.2105 - accuracy: 0.9378 - val_loss: 1.0079 - val_accuracy: 0.6172\n",
      "Epoch 2/3\n",
      "469/469 [==============================] - 101s 215ms/step - loss: 0.0778 - accuracy: 0.9780 - val_loss: 0.0648 - val_accuracy: 0.9799\n",
      "Epoch 3/3\n",
      "469/469 [==============================] - 103s 219ms/step - loss: 0.0570 - accuracy: 0.9845 - val_loss: 0.0538 - val_accuracy: 0.9821\n",
      "{'loss': 0.053756341338157654, 'accuracy': 0.9821000099182129}\n",
      "CPU times: user 24min 56s, sys: 36.9 s, total: 25min 33s\n",
      "Wall time: 5min 15s\n"
     ]
    }
   ],
   "source": [
    "%%time\n",
    "\n",
    "def create_model3(input_x, input_y):\n",
    "    inputs = tf.keras.layers.Input(shape=input_x.shape[1:])\n",
    "    x = tf.keras.layers.Conv2D(filters=16, kernel_size=3, padding='same', activation='relu')(inputs)\n",
    "    x = tf.keras.layers.BatchNormalization()(x)\n",
    "    x = tf.keras.layers.MaxPooling2D(pool_size=2, padding='valid')(x)\n",
    "    x = tf.keras.layers.Conv2D(filters=32, kernel_size=3, padding='same', activation='relu')(x)\n",
    "    x = tf.keras.layers.BatchNormalization()(x)\n",
    "    x = tf.keras.layers.MaxPooling2D(pool_size=2, padding='valid')(x)\n",
    "    x = tf.keras.layers.Conv2D(filters=64, kernel_size=3, padding='same', activation='relu')(x)\n",
    "    x = tf.keras.layers.Flatten()(x)\n",
    "    x = tf.keras.layers.BatchNormalization()(x)\n",
    "    outputs = tf.keras.layers.Dense(len(np.unique(input_y)), activation='softmax')(x)\n",
    "    \n",
    "    model = tf.keras.Model(inputs, outputs)\n",
    "    model.compile(optimizer='sgd', loss='sparse_categorical_crossentropy', metrics=['accuracy'])\n",
    "    model.summary()\n",
    "    return model\n",
    "\n",
    "model = create_model3(x_train, y_train)\n",
    "model.fit(x_train, y_train, batch_size=128, epochs=3, validation_data=(x_test, y_test), verbose=True)\n",
    "score = model.evaluate(x_test, y_test, verbose=0)\n",
    "print(dict(zip(model.metrics_names, score)))"
   ]
  },
  {
   "cell_type": "markdown",
   "id": "0948204b-0f48-41b6-aabd-7023bb4d6e9c",
   "metadata": {},
   "source": [
    "**Вопросы:**\n",
    "\n",
    "1. Почему появились необучаемые параметры (non-trainable)?\n",
    "1. Распишите, какие и сколько параметров входят в BatchNormalization. Для этого воспользуйтесь переменной `layers` и методом `get_weights`.\n",
    "1. Сколько параметров используется на каждом batch normalization слое?\n",
    "1. Какая итоговая точность получилась? Стала ли она больше?\n",
    "1. Как введение новых слоёв повлияло на вермя обучения сети?\n",
    "1. Попробуйте поставить BatchNormalization слои перед/после MaxPooling. Как меняются характеристики и время обучения?"
   ]
  },
  {
   "cell_type": "markdown",
   "id": "f4de33b7-0a67-4e51-938c-628587c8fdaa",
   "metadata": {},
   "source": [
    "**Ответы:**\n",
    "\n",
    "1. Необучаемые параметры появились вследствие добавления слоя нормализации, т.к. параметры этого слоя не меняются.\n",
    "1. В слой нормализации входят следующие типы параметров: gamma weights, beta weights, moving_mean(non-trainable), moving_variance(non-trainable).\n",
    "1. Число параметров в четыре раза превышает последнюю размерность входного вектора, которая в свою очередь равна размерности предыдущего вектора.\n",
    "1. Итоговая точность составила 0.98. Прирост составил 0.04.\n",
    "1. Время обучения увеличилось в 1.25 раз.\n",
    "1. При нормализации до пулинга характеристики и время обучения поменялись, но незначительно."
   ]
  },
  {
   "cell_type": "markdown",
   "id": "9288c0d1-d05e-4bc1-b2d6-f14a79ce0a53",
   "metadata": {},
   "source": [
    "## Задание №3\n",
    "\n",
    "Визуализируйте результат воздействия весов последней сети с первого свёрточного слоя на одно из тестовых изображений."
   ]
  },
  {
   "cell_type": "code",
   "execution_count": 6,
   "id": "b3f4cae5-d7a0-4b59-88bb-a300b1e43258",
   "metadata": {},
   "outputs": [
    {
     "data": {
      "image/png": "[encoded data removed]",
      "text/plain": [
       "<Figure size 640x480 with 1 Axes>"
      ]
     },
     "metadata": {},
     "output_type": "display_data"
    },
    {
     "data": {
      "image/png": "[encoded data removed]",
      "text/plain": [
       "<Figure size 1600x1600 with 16 Axes>"
      ]
     },
     "metadata": {},
     "output_type": "display_data"
    }
   ],
   "source": [
    "layer = model.get_layer(index=1)\n",
    "p = layer(x_train[10:11])\n",
    "\n",
    "plt.grid(False)\n",
    "plt.imshow(x_train[10, :, :, 0], cmap='gray')\n",
    "\n",
    "fig, axes = plt.subplots(4, 4, figsize=(4*4, 4*4))\n",
    "for row, ax_rows in enumerate(axes):\n",
    "    for col, ax in enumerate(ax_rows):\n",
    "        ax.imshow(p[0,:,:,row+col], cmap='gray')\n",
    "        ax.grid(False)"
   ]
  },
  {
   "cell_type": "markdown",
   "id": "f0759779-d11f-46b1-a96b-21956a6e2a2d",
   "metadata": {},
   "source": [
    "**Вопросы:**\n",
    "\n",
    "1. На что похожи отклики с первого слоя?"
   ]
  },
  {
   "cell_type": "markdown",
   "id": "f22fa65f-3e37-4e2b-91f3-39944ab5d62e",
   "metadata": {},
   "source": [
    "**Ответы:**\n",
    "\n",
    "1. На размытый входной вектор."
   ]
  },
  {
   "cell_type": "markdown",
   "id": "c0f6f050-a53e-44e9-8d6d-9af0ccfbd598",
   "metadata": {},
   "source": [
    "## Задание №4\n",
    "\n",
    "Подготовьте датасет [cifar10](https://keras.io/api/datasets/) аналогично предыдущему датасету.\n",
    "Во время первого запуска будет скачиваться архив (около 170 МБ).\n",
    "Он будет закеширован локально, поэтому последующие загрузки этого датасета будут занимать меньше времени.\n",
    "\n",
    "Покажите 4 произвольных изображения из обучающей выборки."
   ]
  },
  {
   "cell_type": "code",
   "execution_count": 7,
   "id": "875eeb8a-315c-4be3-8b79-7a0dbc559b5b",
   "metadata": {},
   "outputs": [
    {
     "name": "stdout",
     "output_type": "stream",
     "text": [
      "(50000, 32, 32, 3) float32 (50000, 1) uint8 (10000, 1)\n"
     ]
    },
    {
     "data": {
      "image/png": "[encoded data removed]",
      "text/plain": [
       "<Figure size 1600x1600 with 4 Axes>"
      ]
     },
     "metadata": {},
     "output_type": "display_data"
    }
   ],
   "source": [
    "(x_train, y_train), (x_test, y_test) = tf.keras.datasets.cifar10.load_data()\n",
    "\n",
    "x_train = np.float32(x_train / x_train.max())\n",
    "y_train = y_train.reshape(y_train.shape[0], 1)\n",
    "\n",
    "x_test = np.float32(x_test / x_test.max())\n",
    "y_test = y_test.reshape(y_test.shape[0], 1)\n",
    "\n",
    "print(x_train.shape, x_train.dtype, y_train.shape, y_train.dtype, y_test.shape)\n",
    "\n",
    "assert x_train.dtype == np.float32 and x_test.dtype == np.float32, 'Неправильный тип входных данных'\n",
    "assert (x_train <= 1).all() and (x_test <= 1).all(), 'Данные не отмасштабированы'\n",
    "\n",
    "fig, axes = plt.subplots(1, 4, figsize=(4 * 4, 4 * 4))\n",
    "for k, ax in enumerate(axes):\n",
    "    ax.imshow(x_train[k])\n",
    "    ax.grid(False)"
   ]
  },
  {
   "cell_type": "markdown",
   "id": "aa679693-f4d5-493b-ac73-3533f3a9493f",
   "metadata": {},
   "source": [
    "Постройте сеть с такой архитектурой:\n",
    "```\n",
    "convolution2dLayer: 32, 3x3, 'Padding'=1\n",
    "reluLayer\n",
    "maxPooling2dLayer: 2, 'Padding'=0\n",
    "\n",
    "convolution2dLayer: 32, 3x3, 'Padding'=1\n",
    "reluLayer\n",
    "maxPooling2dLayer: 2, 'Padding'=0\n",
    "       \n",
    "convolution2dLayer: 64, 3, 'Padding'=1\n",
    "reluLayer\n",
    "maxPooling2dLayer: 2, 'Padding'=0\n",
    "\n",
    "fullyConnectedLayer: 128\n",
    "reluLayer \n",
    "fullyConnectedLayer: num_classes\n",
    "softmaxLayer\n",
    "```\n",
    "\n",
    "Изображения цветные, поэтому для первого слоя с конволюцией укажите параметр `data_format='channels_last'`.\n",
    "При обучении используйте 15 эпох, размер батча 128, оптимизатор градиентного спуска - SGD.\n",
    "Также можно использовать любую другую архитектуру, объяснив целесообразность её применения.\n",
    "Протестируйте работу данной сети.\n",
    "Время обучения сети 5-10 минут."
   ]
  },
  {
   "cell_type": "code",
   "execution_count": 8,
   "id": "faf79a49-540f-4df0-a77a-d5c3697e9af7",
   "metadata": {},
   "outputs": [
    {
     "name": "stdout",
     "output_type": "stream",
     "text": [
      "Model: \"model_3\"\n",
      "_________________________________________________________________\n",
      " Layer (type)                Output Shape              Param #   \n",
      "=================================================================\n",
      " input_4 (InputLayer)        [(None, 32, 32, 3)]       0         \n",
      "                                                                 \n",
      " conv2d_9 (Conv2D)           (None, 32, 32, 32)        896       \n",
      "                                                                 \n",
      " max_pooling2d_6 (MaxPooling  (None, 16, 16, 32)       0         \n",
      " 2D)                                                             \n",
      "                                                                 \n",
      " conv2d_10 (Conv2D)          (None, 16, 16, 32)        9248      \n",
      "                                                                 \n",
      " max_pooling2d_7 (MaxPooling  (None, 8, 8, 32)         0         \n",
      " 2D)                                                             \n",
      "                                                                 \n",
      " conv2d_11 (Conv2D)          (None, 8, 8, 64)          18496     \n",
      "                                                                 \n",
      " max_pooling2d_8 (MaxPooling  (None, 4, 4, 64)         0         \n",
      " 2D)                                                             \n",
      "                                                                 \n",
      " flatten_3 (Flatten)         (None, 1024)              0         \n",
      "                                                                 \n",
      " dense_3 (Dense)             (None, 128)               131200    \n",
      "                                                                 \n",
      " dense_4 (Dense)             (None, 10)                1290      \n",
      "                                                                 \n",
      "=================================================================\n",
      "Total params: 161,130\n",
      "Trainable params: 161,130\n",
      "Non-trainable params: 0\n",
      "_________________________________________________________________\n",
      "Epoch 1/15\n",
      "391/391 [==============================] - 112s 285ms/step - loss: 2.2734 - accuracy: 0.1554 - val_loss: 2.2109 - val_accuracy: 0.1998\n",
      "Epoch 2/15\n",
      "391/391 [==============================] - 118s 303ms/step - loss: 2.0555 - accuracy: 0.2695 - val_loss: 1.9472 - val_accuracy: 0.2892\n",
      "Epoch 3/15\n",
      "391/391 [==============================] - 103s 262ms/step - loss: 1.9026 - accuracy: 0.3220 - val_loss: 1.8132 - val_accuracy: 0.3502\n",
      "Epoch 4/15\n",
      "391/391 [==============================] - 106s 272ms/step - loss: 1.7810 - accuracy: 0.3678 - val_loss: 1.7203 - val_accuracy: 0.3978\n",
      "Epoch 5/15\n",
      "391/391 [==============================] - 101s 259ms/step - loss: 1.6829 - accuracy: 0.4048 - val_loss: 1.7133 - val_accuracy: 0.3959\n",
      "Epoch 6/15\n",
      "391/391 [==============================] - 97s 248ms/step - loss: 1.5921 - accuracy: 0.4376 - val_loss: 1.5629 - val_accuracy: 0.4445\n",
      "Epoch 7/15\n",
      "391/391 [==============================] - 98s 251ms/step - loss: 1.5211 - accuracy: 0.4591 - val_loss: 1.5060 - val_accuracy: 0.4656\n",
      "Epoch 8/15\n",
      "391/391 [==============================] - 104s 267ms/step - loss: 1.4720 - accuracy: 0.4765 - val_loss: 1.4442 - val_accuracy: 0.4892\n",
      "Epoch 9/15\n",
      "391/391 [==============================] - 113s 289ms/step - loss: 1.4261 - accuracy: 0.4930 - val_loss: 1.3904 - val_accuracy: 0.5048\n",
      "Epoch 10/15\n",
      "391/391 [==============================] - 120s 306ms/step - loss: 1.3879 - accuracy: 0.5062 - val_loss: 1.3690 - val_accuracy: 0.5172\n",
      "Epoch 11/15\n",
      "391/391 [==============================] - 123s 316ms/step - loss: 1.3525 - accuracy: 0.5200 - val_loss: 1.3486 - val_accuracy: 0.5268\n",
      "Epoch 12/15\n",
      "391/391 [==============================] - 124s 316ms/step - loss: 1.3195 - accuracy: 0.5314 - val_loss: 1.3064 - val_accuracy: 0.5380\n",
      "Epoch 13/15\n",
      "391/391 [==============================] - 126s 322ms/step - loss: 1.2851 - accuracy: 0.5440 - val_loss: 1.2947 - val_accuracy: 0.5363\n",
      "Epoch 14/15\n",
      "391/391 [==============================] - 123s 315ms/step - loss: 1.2541 - accuracy: 0.5572 - val_loss: 1.2479 - val_accuracy: 0.5550\n",
      "Epoch 15/15\n",
      "391/391 [==============================] - 118s 302ms/step - loss: 1.2291 - accuracy: 0.5654 - val_loss: 1.2438 - val_accuracy: 0.5558\n",
      "{'loss': 1.2438381910324097, 'accuracy': 0.5558000206947327}\n",
      "CPU times: user 2h 40min 6s, sys: 2min 13s, total: 2h 42min 19s\n",
      "Wall time: 28min 27s\n"
     ]
    }
   ],
   "source": [
    "%%time\n",
    "\n",
    "def create_model4(input_x, input_y):\n",
    "    inputs = tf.keras.layers.Input(shape=input_x.shape[1:])\n",
    "    x = tf.keras.layers.Conv2D(filters=32, kernel_size=3, padding='same', activation='relu', data_format='channels_last')(inputs)\n",
    "    x = tf.keras.layers.MaxPooling2D(pool_size=2, padding='valid')(x)\n",
    "    x = tf.keras.layers.Conv2D(filters=32, kernel_size=3, padding='same', activation='relu')(x)\n",
    "    x = tf.keras.layers.MaxPooling2D(pool_size=2, padding='valid')(x)\n",
    "    x = tf.keras.layers.Conv2D(filters=64, kernel_size=3, padding='same', activation='relu')(x)\n",
    "    x = tf.keras.layers.MaxPooling2D(pool_size=2, padding='valid')(x)\n",
    "    x = tf.keras.layers.Flatten()(x)\n",
    "    x = tf.keras.layers.Dense(units = 128, activation='relu')(x)\n",
    "    outputs = tf.keras.layers.Dense(len(np.unique(input_y)), activation='softmax')(x)\n",
    "\n",
    "    model = tf.keras.Model(inputs, outputs)\n",
    "    model.compile(optimizer='sgd', loss='sparse_categorical_crossentropy', metrics=['accuracy'])\n",
    "    model.summary()\n",
    "    return model\n",
    "\n",
    "model = create_model4(x_train, y_train)\n",
    "model.fit(x_train, y_train, batch_size=128, epochs=15, validation_data=(x_test, y_test), verbose=True)\n",
    "score = model.evaluate(x_test, y_test, verbose=0)\n",
    "print(dict(zip(model.metrics_names, score)))"
   ]
  },
  {
   "cell_type": "markdown",
   "id": "21fb3c46-760a-4604-81be-cf95b4991afd",
   "metadata": {},
   "source": [
    "**Вопросы:**\n",
    "\n",
    "1. Какую точность классификации удалось получить?\n",
    "1. Какие слои не имеют параметров обучения? Почему?\n",
    "1. Какую размерность имеют входные изображения?"
   ]
  },
  {
   "cell_type": "markdown",
   "id": "557af9bf-f856-47bb-8779-a8061354768e",
   "metadata": {},
   "source": [
    "**Ответы:**\n",
    "\n",
    "1. Достигнутая точность классификации сосставляет 0.56.\n",
    "1. Параметров обучения нет у входного слоя (не требуется), слоёв пулинга (определения максимума не требует параметров) и выравнивания (не требует параметров).\n",
    "1. Входные изображения имеют три канала размером 32x32."
   ]
  },
  {
   "cell_type": "markdown",
   "id": "ea3c5539-5262-47c6-a826-27cd38aed25e",
   "metadata": {},
   "source": [
    "## Задание №5\n",
    "\n",
    "Попробуйте улучшить точность классификации, добавив нормализацию после свёрточных и полносвязных слоёв."
   ]
  },
  {
   "cell_type": "code",
   "execution_count": 9,
   "id": "b1e02226-9d21-422d-9222-4720f5b40ae3",
   "metadata": {},
   "outputs": [
    {
     "name": "stdout",
     "output_type": "stream",
     "text": [
      "Model: \"model_4\"\n",
      "_________________________________________________________________\n",
      " Layer (type)                Output Shape              Param #   \n",
      "=================================================================\n",
      " input_5 (InputLayer)        [(None, 32, 32, 3)]       0         \n",
      "                                                                 \n",
      " conv2d_12 (Conv2D)          (None, 32, 32, 32)        896       \n",
      "                                                                 \n",
      " max_pooling2d_9 (MaxPooling  (None, 16, 16, 32)       0         \n",
      " 2D)                                                             \n",
      "                                                                 \n",
      " batch_normalization_6 (Batc  (None, 16, 16, 32)       128       \n",
      " hNormalization)                                                 \n",
      "                                                                 \n",
      " conv2d_13 (Conv2D)          (None, 16, 16, 32)        9248      \n",
      "                                                                 \n",
      " max_pooling2d_10 (MaxPoolin  (None, 8, 8, 32)         0         \n",
      " g2D)                                                            \n",
      "                                                                 \n",
      " batch_normalization_7 (Batc  (None, 8, 8, 32)         128       \n",
      " hNormalization)                                                 \n",
      "                                                                 \n",
      " conv2d_14 (Conv2D)          (None, 8, 8, 64)          18496     \n",
      "                                                                 \n",
      " max_pooling2d_11 (MaxPoolin  (None, 4, 4, 64)         0         \n",
      " g2D)                                                            \n",
      "                                                                 \n",
      " batch_normalization_8 (Batc  (None, 4, 4, 64)         256       \n",
      " hNormalization)                                                 \n",
      "                                                                 \n",
      " flatten_4 (Flatten)         (None, 1024)              0         \n",
      "                                                                 \n",
      " dense_5 (Dense)             (None, 128)               131200    \n",
      "                                                                 \n",
      " batch_normalization_9 (Batc  (None, 128)              512       \n",
      " hNormalization)                                                 \n",
      "                                                                 \n",
      " dense_6 (Dense)             (None, 10)                1290      \n",
      "                                                                 \n",
      "=================================================================\n",
      "Total params: 162,154\n",
      "Trainable params: 161,642\n",
      "Non-trainable params: 512\n",
      "_________________________________________________________________\n",
      "Epoch 1/15\n",
      "391/391 [==============================] - 129s 329ms/step - loss: 1.6066 - accuracy: 0.4378 - val_loss: 1.9106 - val_accuracy: 0.3052\n",
      "Epoch 2/15\n",
      "391/391 [==============================] - 128s 328ms/step - loss: 1.2564 - accuracy: 0.5545 - val_loss: 1.2777 - val_accuracy: 0.5469\n",
      "Epoch 3/15\n",
      "391/391 [==============================] - 133s 339ms/step - loss: 1.1150 - accuracy: 0.6075 - val_loss: 1.1877 - val_accuracy: 0.5814\n",
      "Epoch 4/15\n",
      "391/391 [==============================] - 145s 371ms/step - loss: 1.0168 - accuracy: 0.6440 - val_loss: 1.0950 - val_accuracy: 0.6152\n",
      "Epoch 5/15\n",
      "391/391 [==============================] - 136s 348ms/step - loss: 0.9463 - accuracy: 0.6698 - val_loss: 1.0578 - val_accuracy: 0.6256\n",
      "Epoch 6/15\n",
      "391/391 [==============================] - 134s 342ms/step - loss: 0.8911 - accuracy: 0.6919 - val_loss: 1.0761 - val_accuracy: 0.6205\n",
      "Epoch 7/15\n",
      "391/391 [==============================] - 122s 312ms/step - loss: 0.8446 - accuracy: 0.7063 - val_loss: 0.9923 - val_accuracy: 0.6506\n",
      "Epoch 8/15\n",
      "391/391 [==============================] - 130s 332ms/step - loss: 0.8035 - accuracy: 0.7213 - val_loss: 0.9981 - val_accuracy: 0.6538\n",
      "Epoch 9/15\n",
      "391/391 [==============================] - 138s 354ms/step - loss: 0.7699 - accuracy: 0.7337 - val_loss: 1.1263 - val_accuracy: 0.6150\n",
      "Epoch 10/15\n",
      "391/391 [==============================] - 139s 355ms/step - loss: 0.7385 - accuracy: 0.7455 - val_loss: 2.6548 - val_accuracy: 0.3408\n",
      "Epoch 11/15\n",
      "391/391 [==============================] - 139s 354ms/step - loss: 0.7092 - accuracy: 0.7562 - val_loss: 0.8865 - val_accuracy: 0.6936\n",
      "Epoch 12/15\n",
      "391/391 [==============================] - 140s 359ms/step - loss: 0.6818 - accuracy: 0.7650 - val_loss: 0.9835 - val_accuracy: 0.6702\n",
      "Epoch 13/15\n",
      "391/391 [==============================] - 159s 407ms/step - loss: 0.6590 - accuracy: 0.7745 - val_loss: 0.9613 - val_accuracy: 0.6675\n",
      "Epoch 14/15\n",
      "391/391 [==============================] - 304s 776ms/step - loss: 0.6362 - accuracy: 0.7823 - val_loss: 0.9338 - val_accuracy: 0.6876\n",
      "Epoch 15/15\n",
      "391/391 [==============================] - 150s 383ms/step - loss: 0.6111 - accuracy: 0.7922 - val_loss: 1.0430 - val_accuracy: 0.6497\n",
      "{'loss': 1.0430240631103516, 'accuracy': 0.6496999859809875}\n",
      "CPU times: user 3h 7min, sys: 2min 47s, total: 3h 9min 48s\n",
      "Wall time: 37min 20s\n"
     ]
    }
   ],
   "source": [
    "%%time\n",
    "\n",
    "def create_model5(input_x, input_y):\n",
    "    inputs = tf.keras.layers.Input(shape=input_x.shape[1:])\n",
    "    x = tf.keras.layers.Conv2D(filters=32, kernel_size=3, padding='same', activation='relu', data_format='channels_last')(inputs)\n",
    "    x = tf.keras.layers.MaxPooling2D(pool_size=2, padding='valid')(x)\n",
    "    x = tf.keras.layers.BatchNormalization()(x)\n",
    "    x = tf.keras.layers.Conv2D(filters=32, kernel_size=3, padding='same', activation='relu')(x)\n",
    "    x = tf.keras.layers.MaxPooling2D(pool_size=2, padding='valid')(x)\n",
    "    x = tf.keras.layers.BatchNormalization()(x)\n",
    "    x = tf.keras.layers.Conv2D(filters=64, kernel_size=3, padding='same', activation='relu')(x)\n",
    "    x = tf.keras.layers.MaxPooling2D(pool_size=2, padding='valid')(x)\n",
    "    x = tf.keras.layers.BatchNormalization()(x)\n",
    "    x = tf.keras.layers.Flatten()(x)\n",
    "    x = tf.keras.layers.Dense(units = 128, activation='relu')(x)\n",
    "    x = tf.keras.layers.BatchNormalization()(x)\n",
    "    outputs = tf.keras.layers.Dense(len(np.unique(input_y)), activation='softmax')(x)\n",
    "\n",
    "    model = tf.keras.Model(inputs, outputs)\n",
    "    model.compile(optimizer='sgd', loss='sparse_categorical_crossentropy', metrics=['accuracy'])\n",
    "    model.summary()\n",
    "    return model\n",
    "\n",
    "model = create_model5(x_train, y_train)\n",
    "model.fit(x_train, y_train, batch_size=128, epochs=15, validation_data=(x_test, y_test), verbose=True)\n",
    "score = model.evaluate(x_test, y_test, verbose=0)\n",
    "print(dict(zip(model.metrics_names, score)))"
   ]
  },
  {
   "cell_type": "markdown",
   "id": "cf599488-8def-4da3-b1ce-1bb04ef391e6",
   "metadata": {},
   "source": [
    "**Вопросы:**\n",
    "\n",
    "1. Удалось ли увеличить точность классификации введением новых слоёв?\n",
    "1. Как изменилось время обучения сети? (Обратите внимание на `Wall time`, `total`, а также на время обучения каждой эпохи)"
   ]
  },
  {
   "cell_type": "markdown",
   "id": "79d69eb6-f482-45d2-a98a-d0150232bc8f",
   "metadata": {},
   "source": [
    "**Ответы:**\n",
    "\n",
    "1. Точность классификации увеличилась до 0.65.\n",
    "1. Общее время обучения увеличилось на 25%, при этом время обучения некоторых эпох выросло в полтора раза, в то время как время обучения других увеличилось всего на 10%."
   ]
  },
  {
   "cell_type": "markdown",
   "id": "1f1aebb6-0c46-40e4-8038-5ef26ab23148",
   "metadata": {},
   "source": [
    "## Задание №6\n",
    "\n",
    "Попробуйте добавить слой dropout `tf.keras.layers.Dropout(<probability>)` после полносвязного слоя, подобрав оптимальную на Ваш взгляд вероятность удаления нейронов.\n",
    "Поэкспериментируйте с добавлением слоёв BatchNormalization и без них."
   ]
  },
  {
   "cell_type": "code",
   "execution_count": 11,
   "id": "adfc2164-e004-4f90-ae89-6718229f0345",
   "metadata": {},
   "outputs": [
    {
     "name": "stdout",
     "output_type": "stream",
     "text": [
      "Model: \"model_6\"\n",
      "_________________________________________________________________\n",
      " Layer (type)                Output Shape              Param #   \n",
      "=================================================================\n",
      " input_7 (InputLayer)        [(None, 32, 32, 3)]       0         \n",
      "                                                                 \n",
      " conv2d_18 (Conv2D)          (None, 32, 32, 32)        896       \n",
      "                                                                 \n",
      " max_pooling2d_15 (MaxPoolin  (None, 16, 16, 32)       0         \n",
      " g2D)                                                            \n",
      "                                                                 \n",
      " batch_normalization_10 (Bat  (None, 16, 16, 32)       128       \n",
      " chNormalization)                                                \n",
      "                                                                 \n",
      " conv2d_19 (Conv2D)          (None, 16, 16, 32)        9248      \n",
      "                                                                 \n",
      " max_pooling2d_16 (MaxPoolin  (None, 8, 8, 32)         0         \n",
      " g2D)                                                            \n",
      "                                                                 \n",
      " batch_normalization_11 (Bat  (None, 8, 8, 32)         128       \n",
      " chNormalization)                                                \n",
      "                                                                 \n",
      " conv2d_20 (Conv2D)          (None, 8, 8, 64)          18496     \n",
      "                                                                 \n",
      " max_pooling2d_17 (MaxPoolin  (None, 4, 4, 64)         0         \n",
      " g2D)                                                            \n",
      "                                                                 \n",
      " batch_normalization_12 (Bat  (None, 4, 4, 64)         256       \n",
      " chNormalization)                                                \n",
      "                                                                 \n",
      " flatten_6 (Flatten)         (None, 1024)              0         \n",
      "                                                                 \n",
      " dense_9 (Dense)             (None, 128)               131200    \n",
      "                                                                 \n",
      " batch_normalization_13 (Bat  (None, 128)              512       \n",
      " chNormalization)                                                \n",
      "                                                                 \n",
      " dropout (Dropout)           (None, 128)               0         \n",
      "                                                                 \n",
      " dense_10 (Dense)            (None, 10)                1290      \n",
      "                                                                 \n",
      "=================================================================\n",
      "Total params: 162,154\n",
      "Trainable params: 161,642\n",
      "Non-trainable params: 512\n",
      "_________________________________________________________________\n",
      "Epoch 1/15\n",
      "391/391 [==============================] - 132s 326ms/step - loss: 1.6902 - accuracy: 0.4116 - val_loss: 1.9590 - val_accuracy: 0.2992\n",
      "Epoch 2/15\n",
      "391/391 [==============================] - 128s 329ms/step - loss: 1.3239 - accuracy: 0.5324 - val_loss: 1.3724 - val_accuracy: 0.5203\n",
      "Epoch 3/15\n",
      "391/391 [==============================] - 119s 305ms/step - loss: 1.1747 - accuracy: 0.5841 - val_loss: 1.4170 - val_accuracy: 0.5247\n",
      "Epoch 4/15\n",
      "391/391 [==============================] - 126s 324ms/step - loss: 1.0766 - accuracy: 0.6193 - val_loss: 1.1262 - val_accuracy: 0.6026\n",
      "Epoch 5/15\n",
      "391/391 [==============================] - 120s 307ms/step - loss: 1.0002 - accuracy: 0.6465 - val_loss: 1.1612 - val_accuracy: 0.5853\n",
      "Epoch 6/15\n",
      "391/391 [==============================] - 120s 308ms/step - loss: 0.9411 - accuracy: 0.6688 - val_loss: 1.2277 - val_accuracy: 0.5726\n",
      "Epoch 7/15\n",
      "391/391 [==============================] - 120s 308ms/step - loss: 0.8909 - accuracy: 0.6887 - val_loss: 0.9624 - val_accuracy: 0.6618\n",
      "Epoch 8/15\n",
      "391/391 [==============================] - 120s 308ms/step - loss: 0.8506 - accuracy: 0.7027 - val_loss: 1.1035 - val_accuracy: 0.6151\n",
      "Epoch 9/15\n",
      "391/391 [==============================] - 120s 306ms/step - loss: 0.8150 - accuracy: 0.7163 - val_loss: 1.1213 - val_accuracy: 0.6195\n",
      "Epoch 10/15\n",
      "391/391 [==============================] - 120s 306ms/step - loss: 0.7828 - accuracy: 0.7265 - val_loss: 1.0084 - val_accuracy: 0.6591\n",
      "Epoch 11/15\n",
      "391/391 [==============================] - 120s 306ms/step - loss: 0.7531 - accuracy: 0.7356 - val_loss: 0.9579 - val_accuracy: 0.6712\n",
      "Epoch 12/15\n",
      "391/391 [==============================] - 120s 306ms/step - loss: 0.7258 - accuracy: 0.7484 - val_loss: 0.9198 - val_accuracy: 0.6803\n",
      "Epoch 13/15\n",
      "391/391 [==============================] - 121s 309ms/step - loss: 0.7052 - accuracy: 0.7541 - val_loss: 0.9554 - val_accuracy: 0.6648\n",
      "Epoch 14/15\n",
      "391/391 [==============================] - 120s 307ms/step - loss: 0.6847 - accuracy: 0.7604 - val_loss: 1.0104 - val_accuracy: 0.6486\n",
      "Epoch 15/15\n",
      "391/391 [==============================] - 121s 309ms/step - loss: 0.6571 - accuracy: 0.7704 - val_loss: 1.2236 - val_accuracy: 0.5937\n",
      "{'loss': 1.2236186265945435, 'accuracy': 0.5936999917030334}\n",
      "CPU times: user 3h 8min 45s, sys: 2min 27s, total: 3h 11min 13s\n",
      "Wall time: 30min 44s\n"
     ]
    }
   ],
   "source": [
    "%%time\n",
    "\n",
    "def create_model6(input_x, input_y):\n",
    "    inputs = tf.keras.layers.Input(shape=input_x.shape[1:])\n",
    "    x = tf.keras.layers.Conv2D(filters=32, kernel_size=3, padding='same', activation='relu', data_format='channels_last')(inputs)\n",
    "    x = tf.keras.layers.MaxPooling2D(pool_size=2, padding='valid')(x)\n",
    "    x = tf.keras.layers.BatchNormalization()(x)\n",
    "    x = tf.keras.layers.Conv2D(filters=32, kernel_size=3, padding='same', activation='relu')(x)\n",
    "    x = tf.keras.layers.MaxPooling2D(pool_size=2, padding='valid')(x)\n",
    "    x = tf.keras.layers.BatchNormalization()(x)\n",
    "    x = tf.keras.layers.Conv2D(filters=64, kernel_size=3, padding='same', activation='relu')(x)\n",
    "    x = tf.keras.layers.MaxPooling2D(pool_size=2, padding='valid')(x)\n",
    "    x = tf.keras.layers.BatchNormalization()(x)\n",
    "    x = tf.keras.layers.Flatten()(x)\n",
    "    x = tf.keras.layers.Dense(units = 128, activation='relu')(x)\n",
    "    x = tf.keras.layers.BatchNormalization()(x)\n",
    "    x = tf.keras.layers.Dropout(rate = 0.1)(x)\n",
    "    outputs = tf.keras.layers.Dense(len(np.unique(input_y)), activation='softmax')(x)\n",
    "\n",
    "    model = tf.keras.Model(inputs, outputs)\n",
    "    model.compile(optimizer='sgd', loss='sparse_categorical_crossentropy', metrics=['accuracy'])\n",
    "    model.summary()\n",
    "    return model\n",
    "\n",
    "model = create_model6(x_train, y_train)\n",
    "model.fit(x_train, y_train, batch_size=128, epochs=15, validation_data=(x_test, y_test), verbose=True)\n",
    "score = model.evaluate(x_test, y_test, verbose=0)\n",
    "print(dict(zip(model.metrics_names, score)))"
   ]
  },
  {
   "cell_type": "markdown",
   "id": "5242db5e-3a66-432e-b2b2-826081cbab7e",
   "metadata": {},
   "source": [
    "**Вопросы:**\n",
    "\n",
    "1. Удалось ли увеличить точность классификации?\n",
    "1. Что влияет больше на увеличение точности: слой Dropout или BatchNormalization?\n",
    "1. Как изменилось время обучения?"
   ]
  },
  {
   "cell_type": "markdown",
   "id": "bc745752-004c-430b-9dd2-42b1adda677f",
   "metadata": {},
   "source": [
    "### **Ответы:**\n",
    "\n",
    "1. Добавления слоя dropout не увеличило точность.\n",
    "1. В проведённых опытах большее увеличение точности дала нормализация.\n",
    "1. Время обучения не почти не изменилось в сравнении с оригинальной версией (до добавления нормализации или отбрасывания весов)."
   ]
  }
 ],
 "metadata": {
  "kernelspec": {
   "display_name": "Python 3 (ipykernel)",
   "language": "python",
   "name": "python3"
  },
  "language_info": {
   "codemirror_mode": {
    "name": "ipython",
    "version": 3
   },
   "file_extension": ".py",
   "mimetype": "text/x-python",
   "name": "python",
   "nbconvert_exporter": "python",
   "pygments_lexer": "ipython3",
   "version": "3.11.6"
  }
 },
 "nbformat": 4,
 "nbformat_minor": 5
}
